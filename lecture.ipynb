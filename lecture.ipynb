{
 "cells": [
  {
   "cell_type": "code",
   "execution_count": null,
   "metadata": {
    "collapsed": true
   },
   "outputs": [],
   "source": [
    "from lecture import *"
   ]
  },
  {
   "cell_type": "markdown",
   "metadata": {
    "slideshow": {
     "slide_type": "slide"
    }
   },
   "source": [
    "# <center> Introduction to programming in Python </center>\n",
    "### <center>[Nicolas Barral](http://www.imperial.ac.uk/people/n.barral), [Gerard Gorman](http://www.imperial.ac.uk/people/g.gorman) </center>\n",
    "\n",
    "# <center> Lecture 1: Computing with formulas </center>"
   ]
  },
  {
   "cell_type": "markdown",
   "metadata": {
    "collapsed": true,
    "slideshow": {
     "slide_type": "slide"
    }
   },
   "source": [
    "## Learning objectives:\n",
    "<hr style=\"border: solid 2px red; margin-top: 1.5% \">\n",
    "\n",
    "* You will understand that Python will help you defy gravity.\n",
    "* You will know how to execute Python statements from within Jupyter.\n",
    "* Learn what a program variable is and how to express a mathematical expression in code.\n",
    "* Print program outputs.\n",
    "* Access mathematical functions from a Python module.\n",
    "* Be able to write your own *function*."
   ]
  },
  {
   "cell_type": "markdown",
   "metadata": {
    "collapsed": true,
    "slideshow": {
     "slide_type": "slide"
    }
   },
   "source": [
    "```python\n",
    "import antigravity\n",
    "```"
   ]
  },
  {
   "cell_type": "markdown",
   "metadata": {
    "slideshow": {
     "slide_type": "fragment"
    }
   },
   "source": [
    "![import antigravity](https://imgs.xkcd.com/comics/python.png)"
   ]
  },
  {
   "cell_type": "markdown",
   "metadata": {
    "slideshow": {
     "slide_type": "slide"
    }
   },
   "source": [
    "## Programming a mathematical formula\n",
    "<hr style=\"border: solid 2px red; margin-top: 1.5% \">\n",
    "\n",
    "Here is a formula for the position of a ball in vertical motion, starting at ground level (i.e. $y=0$) at time $t=0$:\n",
    "     $$ y(t) = v_0t- \\frac{1}{2}gt^2 $$\n",
    "\n",
    "where:\n",
    "\n",
    "* $y$ is the height (position) as a function of time $t$\n",
    "* $v_0$ is the initial velocity (at $t=0$)\n",
    "* $g$ is the acceleration due to gravity\n",
    "\n",
    "The computational task is: given $v_0$, $g$ and $t$, compute the value $y$. "
   ]
  },
  {
   "cell_type": "markdown",
   "metadata": {
    "slideshow": {
     "slide_type": "subslide"
    }
   },
   "source": [
    "**How do we program this task?** A program is a sequence of instructions given to the computer. However, while a programming language is much **simpler** than a natural language, it is more **pedantic**. Programs must have correct syntax, i.e., correct use of the computer language grammar rules, and no misprints.\n",
    "\n",
    "So let's execute a Python statement based on this example. Evaluate $y(t) = v_0t- \\frac{1}{2}gt^2$ for $v_0=5$, $g=9.81$ and $t=0.6$. If you were doing this on paper you would probably write something like this: $$ y = 5\\cdot 0.6 - {1\\over2}\\cdot 9.81 \\cdot 0.6^2.$$ Happily, writing this in Python is very similar:"
   ]
  },
  {
   "cell_type": "code",
   "execution_count": null,
   "metadata": {
    "collapsed": true,
    "slideshow": {
     "slide_type": "fragment"
    }
   },
   "outputs": [],
   "source": [
    "# Comment: This is a 'code' cell within Jupyter notebook.\n",
    "# Press shift-enter to execute the code within this kind of\n",
    "# cell, or click on the 'Run' widget on the Jupyter tool bar above.\n",
    "\n",
    "print(5*0.6 - 0.5*9.81*0.6**2)"
   ]
  },
  {
   "cell_type": "markdown",
   "metadata": {
    "slideshow": {
     "slide_type": "subslide"
    }
   },
   "source": [
    "## <span style=\"color:blue\">Exercice 1.1:</span> Open a code cell and write some code.\n",
    "* Navigate the [Jupyter](http://jupyter.org/) tool bar to \"Insert\"->\"Insert Cell Below\". Note from the tool bar that you can select a cell to be one of 'Code' (this is the default), 'Markdown' (this cell is written in [markdown](https://en.wikipedia.org/wiki/Markdown) - double click this cell to investigate further), 'Raw NBConvert' or 'Heading' (decrepit).\n",
    "* Cut&paste the code from the previous cell into your newly created code cell below. Make sure it runs!\n",
    "* To see how important it is to use the correct [syntax](https://en.wikipedia.org/wiki/Syntax), replace `**` with `^` in your code and try running the cell again. You should see something like the following:\n",
    "\n",
    "```python\n",
    ">>> print(5*0.6 - 0.5*9.81*0.6^2)\n",
    "\n",
    "---------------------------------------------------------------------------\n",
    "TypeError                                 Traceback (most recent call last)\n",
    "<ipython-input-3-40e93484ac5e> in <module>()\n",
    "----> 1 print(5*0.6 - 0.5*9.81*0.6^2)\n",
    "\n",
    "TypeError: unsupported operand type(s) for ^: 'float' and 'int'\n",
    "```\n",
    "* Undo that change so your code is working again; now change 'print' to 'write' and see what happens when you run the cell. You should see something like:\n",
    "\n",
    "```python\n",
    ">>> write(5*0.6 - 0.5*9.81*0.6**2)\n",
    "\n",
    "---------------------------------------------------------------------------\n",
    "NameError                                 Traceback (most recent call last)\n",
    "<ipython-input-5-492c3eff3ad9> in <module>()\n",
    "----> 1 write(5*0.6 - 0.5*9.81*0.6**2)\n",
    "\n",
    "NameError: name 'write' is not defined\n",
    "```\n",
    "\n",
    "While a human might still understand these statements, they do not mean anything to the Python interpreter. Rather than throwing your hands up in the air whenever you get an error message like the above (you are going to see many during the course of these lectures!!!) train yourself to read error messages carefully to get an idea what it is complaining about and re-read your code from the perspective of the Python interpreter.\n",
    "\n",
    "Error messages can look bewildering and even frustrating at first, but it gets much **easier with practise**."
   ]
  },
  {
   "cell_type": "markdown",
   "metadata": {
    "slideshow": {
     "slide_type": "slide"
    }
   },
   "source": [
    "## Storing numbers in variables\n",
    "<hr style=\"border: solid 2px red; margin-top: 1.5% \">\n",
    "\n",
    "From mathematics you are already familiar with variables (e.g. $v_0=5,\\quad g=9.81,\\quad t=0.6,\\quad y = v_0t -{1\\over2}gt^2$) and you already know how important they are for working out complicated problems. Similarly, you can use variables in a program to make it easier to read and understand."
   ]
  },
  {
   "cell_type": "code",
   "execution_count": null,
   "metadata": {
    "collapsed": true,
    "slideshow": {
     "slide_type": "subslide"
    }
   },
   "outputs": [],
   "source": [
    "v0 = 5\n",
    "g = 9.81\n",
    "t = 0.6\n",
    "y = v0*t - 0.5*g*t**2\n",
    "print(y)"
   ]
  },
  {
   "cell_type": "markdown",
   "metadata": {
    "slideshow": {
     "slide_type": "fragment"
    }
   },
   "source": [
    "This program spans several lines of text and uses variables, otherwise the program performs the same calculations and gives the same output as the previous program.\n",
    "\n",
    "In mathematics we usually use one letter for a variable, resorting to using the Greek alphabet and other characters for more clarity. The main reason for this is to avoid becoming exhausted from writing when working out long expressions or derivations. However, when programming you should use more descriptive names for variable names. This might not seem like an important consideration for the trivial example here but it becomes increasingly important as the program gets more complicated and if someone else has to read your code."
   ]
  },
  {
   "cell_type": "markdown",
   "metadata": {
    "slideshow": {
     "slide_type": "slide"
    }
   },
   "source": [
    "### Good variable names make a program easier to understand!\n",
    "\n",
    "Permitted variable names include:\n",
    "\n",
    "* One-letter symbols.\n",
    "* Words or abbreviation of words.\n",
    "* Variable names can contain a-z, A-Z, underscore (\"'_'\") and digits 0-9, **but** the name cannot start with a digit.\n",
    "\n",
    "Variable names are case-sensitive (i.e. \"'a'\" is different from \"'A'\"). Let's rewrite the previous example using more descriptive variable names:"
   ]
  },
  {
   "cell_type": "code",
   "execution_count": null,
   "metadata": {
    "collapsed": true,
    "slideshow": {
     "slide_type": "fragment"
    }
   },
   "outputs": [],
   "source": [
    "initial_velocity = 5\n",
    "acceleration_of_gravity = 9.81\n",
    "TIME = 0.6\n",
    "VerticalPositionOfBall = initial_velocity*TIME - 0.5*acceleration_of_gravity*TIME**2\n",
    "print(VerticalPositionOfBall)"
   ]
  },
  {
   "cell_type": "markdown",
   "metadata": {
    "slideshow": {
     "slide_type": "subslide"
    }
   },
   "source": [
    "Certain words have a **special meaning** in Python and **cannot be used as variable names**. These are: *and, as, assert, break, class, continue, def, del, elif, else, except, exec, finally, for, from, global, if, import, in, is, lambda, not, or, pass, print, raise, return, try, with, while,* and *yield*."
   ]
  },
  {
   "cell_type": "markdown",
   "metadata": {
    "slideshow": {
     "slide_type": "slide"
    }
   },
   "source": [
    "## Adding comments to code\n",
    "<hr style=\"border: solid 2px red; margin-top: 1.5% \">\n",
    "\n",
    "Not everything written in a computer program is intended for execution. In Python anything on a line after the '#' character is ignored and is known as a **comment**. You can write whatever you want in a comment. Comments are intended to be used to explain what a snippet of code is intended for. It might for example explain the objective or provide a reference to the data or algorithm used. This is both useful for you when you have to understand your code at some later stage, and indeed for whoever has to read and understand your code later."
   ]
  },
  {
   "cell_type": "code",
   "execution_count": null,
   "metadata": {
    "collapsed": true,
    "slideshow": {
     "slide_type": "fragment"
    }
   },
   "outputs": [],
   "source": [
    "# Program for computing the height of a ball in vertical motion.\n",
    "v0 = 5    # Set initial velocity in m/s.\n",
    "g = 9.81  # Set acceleration due to gravity in m/s^2.\n",
    "t = 0.6   # Time at which we want to know the height of the ball in seconds.\n",
    "y = v0*t - 0.5*g*t**2 # Calculate the vertical position\n",
    "print(y)"
   ]
  },
  {
   "cell_type": "markdown",
   "metadata": {
    "slideshow": {
     "slide_type": "slide"
    }
   },
   "source": [
    "## <span style=\"color:blue\">Exercice 1.2:</span> Convert from meters to British length units\n",
    "Here in the UK we are famous for our love of performing mental arithmetic. That is why we still use both imperial and metric measurement systems - hours of fun entertainment for the family switching back and forth between the two.\n",
    "\n",
    "Make a program where you set a length given in meters and then compute and write out the corresponding length measured in:\n",
    "* inches (one inch is 2.54 cm)\n",
    "* feet (one foot  is 12 inches)\n",
    "* yards (one foot is 12 inches, one yard is 3 feet)\n",
    "* miles (one British mile is 1760 yards)\n",
    "\n",
    "Note: In this course we are using [okpy](https://okpy.org/) to automated assessment scoring. Therefore, while it is important to always carefully follow the instructions of a question, it is particularly important here so that okpy can recognize the validity of your answer. The conversion to inches are done for you to illustrate what is required."
   ]
  },
  {
   "cell_type": "code",
   "execution_count": null,
   "metadata": {
    "collapsed": true
   },
   "outputs": [],
   "source": [
    "meters = 640\n",
    "\n",
    "# 1 inch = 2.54 cm. Remember to convert from 2.54 cm to 0.0254 m here.\n",
    "inches = meters/0.0254\n",
    "\n",
    "# Uncomment and complete the following code.\n",
    "# feet =\n",
    "\n",
    "# yards =\n",
    "\n",
    "# miles ="
   ]
  },
  {
   "cell_type": "code",
   "execution_count": null,
   "metadata": {
    "collapsed": true
   },
   "outputs": [],
   "source": [
    "grade = ok.grade('question-1_2')"
   ]
  },
  {
   "cell_type": "markdown",
   "metadata": {
    "slideshow": {
     "slide_type": "slide"
    }
   },
   "source": [
    "## Formatted printing style\n",
    "<hr style=\"border: solid 2px red; margin-top: 1.5% \">\n",
    "\n",
    "Often we want to print out results using a combination of text and numbers, e.g. \"'At t=0.6 s, y is 1.23 m'\". Particularly when printing out floating point numbers we should **never** quote numbers to a higher accuracy than they were measured. Python provides a *printf formatting* syntax exactly for this purpose. We can see in the following example that the *slot* `%g` was used to express the floating point number with the minimum number of significant figures, and the *slot* `%.2f` specified that only two digits are printed out after the decimal point."
   ]
  },
  {
   "cell_type": "code",
   "execution_count": null,
   "metadata": {
    "collapsed": true,
    "slideshow": {
     "slide_type": "fragment"
    }
   },
   "outputs": [],
   "source": [
    "print(\"At t=%g s, y is %.2f m.\" % (t, y))"
   ]
  },
  {
   "cell_type": "markdown",
   "metadata": {
    "slideshow": {
     "slide_type": "fragment"
    }
   },
   "source": [
    "Notice in this example how the values in the tuple `(t, y)` are inserted into the *slots*."
   ]
  },
  {
   "cell_type": "markdown",
   "metadata": {
    "slideshow": {
     "slide_type": "subslide"
    }
   },
   "source": [
    "Sometimes we want a multi-line output. This is achieved using a triple quotation (*i.e.* `\"\"\"`):"
   ]
  },
  {
   "cell_type": "code",
   "execution_count": null,
   "metadata": {
    "collapsed": true,
    "slideshow": {
     "slide_type": "fragment"
    }
   },
   "outputs": [],
   "source": [
    "print(\"\"\"At t=%f s, a ball with\n",
    "initial velocity v0=%.3E m/s\n",
    "is located at the height %.2f m.\n",
    "\"\"\" % (t, v0, y))"
   ]
  },
  {
   "cell_type": "markdown",
   "metadata": {
    "slideshow": {
     "slide_type": "slide"
    }
   },
   "source": [
    "## <span style=\"color:blue\">Exercice 1.3: </span> Compute the air resistance on a football\n",
    "The drag force, due to air resistance, on an object can be expressed as\n",
    "$$F_d = \\frac{1}{2}C_D\\rho AV^2$$\n",
    "where:\n",
    "* $\\rho$ is the density of the air,\n",
    "* $V$ is the velocity of the object,\n",
    "* $A$ is the cross-sectional area (normal to the velocity direction),\n",
    "* and $C_D$ is the drag coefficient, which depends on the shape of the object and the roughness of the surface.\n",
    "\n",
    "Complete the following code that computes the drag force. "
   ]
  },
  {
   "cell_type": "code",
   "execution_count": null,
   "metadata": {
    "collapsed": true,
    "slideshow": {
     "slide_type": "subslide"
    }
   },
   "outputs": [],
   "source": [
    "# Football example\n",
    "\n",
    "# import pi from Python's math library\n",
    "from math import pi\n",
    "\n",
    "density = 1.2      # units of kg m^{−3}$\n",
    "ball_radius = 0.11 # m\n",
    "A = pi*ball_radius # Cross sectional area of a sphere\n",
    "mass = 0.43        # kg\n",
    "C_D = 0.2          # Drag coefficient\n",
    "\n",
    "V = 50.8           # m/s (fastest recorded speed of football)\n",
    "\n",
    "# Uncomment and complete the following code.\n",
    "# F_d = \n",
    "\n",
    "# Challenge yourself to use the formatted print statement\n",
    "# shown above to write out the forces with one decimal in\n",
    "# units of Newton ($N = kgm/s^2$)."
   ]
  },
  {
   "cell_type": "code",
   "execution_count": null,
   "metadata": {
    "collapsed": true
   },
   "outputs": [],
   "source": [
    "grade = ok.grade('question-1_3')"
   ]
  },
  {
   "cell_type": "markdown",
   "metadata": {
    "slideshow": {
     "slide_type": "slide"
    }
   },
   "source": [
    "## How are arithmetic expressions evaluated?\n",
    "<hr style=\"border: solid 2px red; margin-top: 1.5% \">\n",
    "\n",
    "Consider the random mathematical expression, ${5\\over9} + 2a^4/2$, implemented in Python as `5.0/9 + 2*a**4/2`.\n",
    "\n",
    "The rules for evaluating the expression are the same as in mathematics: proceed term by term (additions/subtractions) from the left, compute powers first, then multiplication and division. Therefore in this example the order of evaluation will be:\n",
    "\n",
    "1. `r1 = 5.0/9`\n",
    "2. `r2 = a**4`\n",
    "3. `r3 = 2*r2`\n",
    "4. `r4 = r3/2`\n",
    "5. `r5 = r1 + r4`\n",
    "\n",
    "Use parenthesis to override these default rules. Indeed, many programmers use parenthesis for greater clarity."
   ]
  },
  {
   "cell_type": "markdown",
   "metadata": {
    "slideshow": {
     "slide_type": "slide"
    }
   },
   "source": [
    "## <span style=\"color:blue\">Exercice 1.4:</span> Compute the growth of money in a bank\n",
    "Let *p* be a bank's interest rate in percent per year. An initial amount $A_0$ has then grown to $$A_n = A_0\\left(1+\\frac{p}{100}\\right)^n$$ after *n* years. Write a program for computing how much money 1000 euros have grown to after three years with a 5% interest rate."
   ]
  },
  {
   "cell_type": "code",
   "execution_count": null,
   "metadata": {
    "collapsed": true
   },
   "outputs": [],
   "source": [
    "# Complete the code commented out below (don't change variable names!)\n",
    "\n",
    "# p = ...\n",
    "# A_0 = ... \n",
    "\n",
    "# A_n = ...\n",
    "\n",
    "# print(\"The amount of money in the account after %d years is: %.2f euros\" % (n, A_n))"
   ]
  },
  {
   "cell_type": "code",
   "execution_count": null,
   "metadata": {
    "collapsed": true
   },
   "outputs": [],
   "source": [
    "grade = ok.grade('question-1_4')"
   ]
  },
  {
   "cell_type": "markdown",
   "metadata": {
    "slideshow": {
     "slide_type": "slide"
    }
   },
   "source": [
    "## Standard mathematical functions\n",
    "<hr style=\"border: solid 2px red; margin-top: 1.5% \">\n",
    "\n",
    "What if we need to compute $\\sin x$, $\\cos x$, $\\ln x$, etc. in a program? Such functions are available in Python's *math module*. In fact there is a vast universe of functionality for Python available in modules. We just *import* in whatever we need for the task at hand.\n",
    "\n",
    "In this example we compute $\\sqrt{2}$ using the *sqrt* function in the *math* module:"
   ]
  },
  {
   "cell_type": "code",
   "execution_count": null,
   "metadata": {
    "collapsed": true,
    "slideshow": {
     "slide_type": "fragment"
    }
   },
   "outputs": [],
   "source": [
    "import math\n",
    "r = math.sqrt(2)\n",
    "print(r)"
   ]
  },
  {
   "cell_type": "markdown",
   "metadata": {
    "slideshow": {
     "slide_type": "subslide"
    }
   },
   "source": [
    "or:"
   ]
  },
  {
   "cell_type": "code",
   "execution_count": null,
   "metadata": {
    "collapsed": true,
    "slideshow": {
     "slide_type": "fragment"
    }
   },
   "outputs": [],
   "source": [
    "from math import sqrt\n",
    "r = sqrt(2)\n",
    "print(r)"
   ]
  },
  {
   "cell_type": "markdown",
   "metadata": {
    "slideshow": {
     "slide_type": "subslide"
    }
   },
   "source": [
    "or:"
   ]
  },
  {
   "cell_type": "code",
   "execution_count": null,
   "metadata": {
    "collapsed": true,
    "slideshow": {
     "slide_type": "fragment"
    }
   },
   "outputs": [],
   "source": [
    "from math import *   # import everything in math\n",
    "r = sqrt(2)\n",
    "print(r)"
   ]
  },
  {
   "cell_type": "markdown",
   "metadata": {
    "slideshow": {
     "slide_type": "subslide"
    }
   },
   "source": [
    "Another example:"
   ]
  },
  {
   "cell_type": "code",
   "execution_count": null,
   "metadata": {
    "collapsed": true,
    "slideshow": {
     "slide_type": "fragment"
    }
   },
   "outputs": [],
   "source": [
    "from math import sin, cos, log\n",
    "x = 1.2\n",
    "print(sin(x)*cos(x) + 4*log(x))   # log is ln (base e)"
   ]
  },
  {
   "cell_type": "markdown",
   "metadata": {
    "slideshow": {
     "slide_type": "slide"
    }
   },
   "source": [
    "## <span style=\"color:blue\">Exercice 1.5:</span> Evaluate a Gaussian function\n",
    "\n",
    "The bell-shaped Gaussian function,\n",
    "$$f(x)=\\frac{1}{\\sqrt{2\\pi}s}\\exp\\left(-\\frac{1}{2} \\left(\\frac{x-m}{s}\\right)^2\\right)$$\n",
    "is one of the most widely used functions in science and technology. The parameters $m$ and $s$ are real numbers, where $s$ must be greater than zero. Write a program for evaluating this function when $m = 0$, $s = 2$, and $x = 1$. Verify the program's result by using a calculator."
   ]
  },
  {
   "cell_type": "code",
   "execution_count": null,
   "metadata": {
    "collapsed": true,
    "slideshow": {
     "slide_type": "subslide"
    }
   },
   "outputs": [],
   "source": [
    "# Uncomment and complete the code below (don't change variable names!)\n",
    "\n",
    "# from math import pi, ...\n",
    "\n",
    "# f_x = "
   ]
  },
  {
   "cell_type": "code",
   "execution_count": null,
   "metadata": {
    "collapsed": true
   },
   "outputs": [],
   "source": [
    "grade = ok.grade('question-1_5')"
   ]
  },
  {
   "cell_type": "markdown",
   "metadata": {
    "slideshow": {
     "slide_type": "slide"
    }
   },
   "source": [
    "## <span style=\"color:blue\">Exercice 1.6:</span> Find errors in the coding of a formula\n",
    "Given a quadratic equation,\n",
    "$$ax^2 + bx + c = 0,$$\n",
    "$$x1 = \\frac{−b + \\sqrt{b^2 −4ac}}{2a},$$ and\n",
    "$$x2 = \\frac{−b − \\sqrt{b^2 −4ac}}{2a}.$$\n",
    "\n",
    "Uncomment and fix the errors in the following code."
   ]
  },
  {
   "cell_type": "code",
   "execution_count": null,
   "metadata": {
    "collapsed": true,
    "slideshow": {
     "slide_type": "subslide"
    }
   },
   "outputs": [],
   "source": [
    "# a = 2; b = 1; c = -2\n",
    "# from math import sqrt\n",
    "# q = sqrt(b*b + 4*a*c)\n",
    "# x1 = (-b + q)/2*a\n",
    "# x2 = (-b - q)/2*a\n",
    "# print(x1, x2)"
   ]
  },
  {
   "cell_type": "code",
   "execution_count": null,
   "metadata": {
    "collapsed": true
   },
   "outputs": [],
   "source": [
    "grade = ok.grade('question-1_6')"
   ]
  },
  {
   "cell_type": "markdown",
   "metadata": {},
   "source": [
    "## Functions\n",
    "<hr style=\"border: solid 2px red; margin-top: 1.5% \">\n",
    "\n",
    "We have already used Python functions, e.g. `sqrt` from the `math` module above. In general, a function is a collection of statements we can execute wherever and whenever we want. For example, consider any of the formula you implemented above. \n",
    "\n",
    "Functions can take any number of inputs (called *arguments*) to produce outputs. Functions help to organize programs, make them more understandable, shorter, and easier to extend. Wouldn't it be nice to implement it just once and then be able to use it again any time you need it, rather than having to write out the whole formula again?\n",
    "\n",
    "For our first example we will reuse the formula for the position of a ball in vertical motion, which we've seen at the beginning of the document. "
   ]
  },
  {
   "cell_type": "code",
   "execution_count": null,
   "metadata": {
    "collapsed": true
   },
   "outputs": [],
   "source": [
    "# Function to compute height of ball.\n",
    "def ball_height(v0, t, g=9.81):\n",
    "    \"\"\"Function to calculate height of ball.\n",
    "    \n",
    "    Parameters\n",
    "    ----------\n",
    "    v0 : float\n",
    "        Set initial velocity (units, m/s).\n",
    "    t : float\n",
    "        Time at which we want to know the height of the ball (units, seconds).\n",
    "    g : float, optimal\n",
    "        Acceleration due to gravity, by default 9.81 m/s^2.\n",
    "\n",
    "    Returns\n",
    "    -------\n",
    "    float\n",
    "        Height of ball in meters.\n",
    "    \"\"\"\n",
    "\n",
    "    height = v0*t - 0.5*g*t**2\n",
    "    \n",
    "    return height"
   ]
  },
  {
   "cell_type": "markdown",
   "metadata": {},
   "source": [
    "Lets break this example down:\n",
    "* Function header:\n",
    " * Functions start with *def* followed by the name you want to give the function (ball_height in this case).\n",
    " * Following the name, you have `(...):` containing some number of function `arguments`.\n",
    " * In this case `v0` and `t` are *position arguments* while `g` is known as a *keyword argument* (more about this later).\n",
    "* Function body.\n",
    " * The first thing to notice is that the body of the function is indented one level.\n",
    " * Best practice is to include a [docstring](https://sphinxcontrib-napoleon.readthedocs.io/en/latest/example_numpy.html) to explain to others (or remind your future self) how the function should be used.\n",
    " * The function output is passed back via the `return` statement\n",
    " \n",
    "Notice that this just defines the function. Nothing is actually executed until you actually *use* the function:"
   ]
  },
  {
   "cell_type": "code",
   "execution_count": null,
   "metadata": {
    "collapsed": true
   },
   "outputs": [],
   "source": [
    "print(\"Ball height: %g meters.\"%ball_height(5, 0.6))"
   ]
  },
  {
   "cell_type": "markdown",
   "metadata": {},
   "source": [
    "No return value implies that `None` is returned. `None` is a special Python object that represents an ”empty” or undefined value. It is surprisingly useful and we will use it a lot later.\n",
    "\n",
    "Functions can also return multiple values. Let's extend the previous example to calculate the ball velocity as well as the height:"
   ]
  },
  {
   "cell_type": "code",
   "execution_count": null,
   "metadata": {
    "collapsed": true
   },
   "outputs": [],
   "source": [
    "# Function to compute height of ball.\n",
    "def ball_height_velocity(v0, t, g=9.81):\n",
    "    \"\"\"Function to calculate height and velocity of ball.\n",
    "    \n",
    "    Parameters\n",
    "    ----------\n",
    "    v0 : float\n",
    "        Set initial velocity (units, m/s).\n",
    "    t : float\n",
    "        Time at which we want to know the height of the ball (units, seconds).\n",
    "    g : float, optimal\n",
    "        Acceleration due to gravity, by default 9.81 m/s^2.\n",
    "\n",
    "    Returns\n",
    "    -------\n",
    "    float\n",
    "        Height of ball in meters.\n",
    "    float\n",
    "        Velocity of ball in m/s.\n",
    "    \"\"\"\n",
    "\n",
    "    height = v0*t - 0.5*g*t**2\n",
    "    velocity = v0 - g*t\n",
    "    \n",
    "    return height, velocity\n",
    "\n",
    "h, v = ball_height_velocity(5, 0.6)\n",
    "\n",
    "print(\"Ball height: %g meters.\"%h)\n",
    "print(\"Ball velocity: %g m/s.\"%v)"
   ]
  },
  {
   "cell_type": "markdown",
   "metadata": {},
   "source": [
    "## Scope: Local and global variables\n",
    "<hr style=\"border: solid 2px red; margin-top: 1.5% \">\n",
    "\n",
    "Variables defined within a function are said to have *local scope*. That is to say that they can only be referenced within that function. Consider the example function defined above where we used the *local* variable *height*. You can see that if you try to print the variable height outside the function you will get an error.\n",
    "\n",
    "```python\n",
    "print(height)\n",
    "\n",
    "---------------------------------------------------------------------------\n",
    "NameError                                 Traceback (most recent call last)\n",
    "<ipython-input-8-aa6406a13920> in <module>()\n",
    "----> 1 print(height)\n",
    "\n",
    "NameError: name 'height' is not defined\n",
    "```"
   ]
  },
  {
   "cell_type": "markdown",
   "metadata": {},
   "source": [
    "## Keyword arguments and default input values\n",
    "<hr style=\"border: solid 2px red; margin-top: 1.5% \">\n",
    "\n",
    "Functions can have arguments of the form variable_name=value and are called keyword arguments:"
   ]
  },
  {
   "cell_type": "code",
   "execution_count": null,
   "metadata": {
    "collapsed": true
   },
   "outputs": [],
   "source": [
    "def somefunc(arg1, arg2, kwarg1=True, kwarg2=0):\n",
    "    print(arg1, arg2, kwarg1, kwarg2)\n",
    "\n",
    "somefunc(\"Hello\", [1,2])   # Note that we have not specified inputs for kwarg1 and kwarg2"
   ]
  },
  {
   "cell_type": "code",
   "execution_count": null,
   "metadata": {
    "collapsed": true
   },
   "outputs": [],
   "source": [
    "somefunc(\"Hello\", [1,2], kwarg1=\"Hi\")"
   ]
  },
  {
   "cell_type": "code",
   "execution_count": null,
   "metadata": {
    "collapsed": true
   },
   "outputs": [],
   "source": [
    "somefunc(\"Hello\", [1,2], kwarg2=\"Hi\")"
   ]
  },
  {
   "cell_type": "code",
   "execution_count": null,
   "metadata": {
    "collapsed": true
   },
   "outputs": [],
   "source": [
    "somefunc(\"Hello\", [1,2], kwarg2=\"Hi\", kwarg1=6)"
   ]
  },
  {
   "cell_type": "markdown",
   "metadata": {},
   "source": [
    "If we use variable_name=value for all arguments, their sequence in the function header can be in any order."
   ]
  },
  {
   "cell_type": "code",
   "execution_count": null,
   "metadata": {
    "collapsed": true
   },
   "outputs": [],
   "source": [
    "somefunc(kwarg2=\"Hello\", arg1=\"Hi\", kwarg1=6, arg2=[2])"
   ]
  },
  {
   "cell_type": "markdown",
   "metadata": {},
   "source": [
    "## <span style=\"color:blue\">Exercice 1.7</span> Implement a Gaussian function\n",
    "\n",
    "Create a Python function to compute the Gaussian: \n",
    "$$f(x)=\\frac{1}{s\\sqrt{2\\pi}}\\exp\\left(-\\frac{1}{2} \\left(\\frac{x-m}{s}\\right)^2\\right)$$"
   ]
  },
  {
   "cell_type": "code",
   "execution_count": null,
   "metadata": {
    "collapsed": true
   },
   "outputs": [],
   "source": [
    "# Uncomment and complete this code - keep the names the same for testing purposes. \n",
    "\n",
    "# def gaussian(x, m=0, s=1):\n",
    "#     ..."
   ]
  },
  {
   "cell_type": "code",
   "execution_count": null,
   "metadata": {
    "collapsed": true
   },
   "outputs": [],
   "source": [
    "ok.grade('question-1_7')"
   ]
  },
  {
   "cell_type": "markdown",
   "metadata": {},
   "source": [
    "## <span style=\"color:blue\">Exercice 1.8:</span> How to cook the perfect egg\n",
    "\n",
    "You just started University and moved away from home. You're trying to impress your new flatmates by cooking brunch. Write a python script to help you cook the perfect eggs! \n",
    "\n",
    "\n",
    "You know from A-levels that when the temperature exceeds a critical point, the proteins in the egg first denature and then coagulate, and the process becomes faster as the temperature increases. In the egg white, the proteins start to coagulate for temperatures above 63$^\\circ$C, while in the yolk the proteins start to coagulate for temperatures above 70$^\\circ$C. \n",
    "\n",
    "The time `t` (in seconds) it takes for the centre of the yolk to reach the temperature `Ty` (in degrees Celsius) can be expressed as: \n",
    "\n",
    "$$t = \\frac{M^{2/3}c \\rho^{1/3}}{K \\pi^2 (4 \\pi /3)^{2/3} } ln \\left[0.76 \\frac{T_0-T_w}{T_y-T_w}\\right]$$\n",
    "\n",
    "where:\n",
    "* $M$ is the mass of the egg;\n",
    "* $\\rho$ is the density;\n",
    "* $c$ is the specific heat capacity;\n",
    "* $K$ is thermal conductivity.\n",
    "* $Tw$ temperature of the boiling water (in C degrees) \n",
    "* $T0$ is the initial temeprature of the egg (in C degrees), before being put in the water.\n",
    "\n",
    "Write a function that returns the time `t` needed for the egg to cook, knowing that `Tw` = 100$^\\circ$ C, `M` = 50 g, `rho` = 1.038 gcm$^{−3}$, `c` = 3.7 Jg$^{−1}$K$^{−1}$, and `K` = 5.4 · 10$^{−3}$Wcm$^{−1}$K$^{−1}$. Find `t` for an egg taken from the fridge (`T0` = 4 C) and for one at room temperature (`T0` = 20 C). \n",
    "\n",
    "Hint: You do not need to do any unit conversion. `Ty` = 70 $^\\circ$ C. for a perfect soft boiled egg. "
   ]
  },
  {
   "cell_type": "code",
   "execution_count": null,
   "metadata": {
    "collapsed": true
   },
   "outputs": [],
   "source": [
    "# Uncomment and complete this code - keep the names the same for testing purposes. \n",
    "\n",
    "#from math import pi\n",
    "\n",
    "#def perfect_egg(T0, M=...):\n",
    "#    ...\n",
    "#    return t"
   ]
  },
  {
   "cell_type": "code",
   "execution_count": null,
   "metadata": {
    "collapsed": true
   },
   "outputs": [],
   "source": [
    "ok.grade('question-1_8')"
   ]
  },
  {
   "cell_type": "markdown",
   "metadata": {},
   "source": [
    "## <span style=\"color:blue\">Exercice 1.9:</span> Kepler's third law\n",
    "\n",
    "You were selected to be the next astronaut to go to Mars. Congratulations! \n",
    "\n",
    "Kepler's third law expresses the relationship between the distance of planets from the Sun, $a$, and their orbital periods, $P$\n",
    "\n",
    "$$ P^2 = \\frac{4\\pi^2}{G(m_1+m_2)}a^3  $$\n",
    "\n",
    "where\n",
    "* P is the period (in seconds)\n",
    "* G is the gravitational constant ( = 6.67 × 10$^{-11}$ m$^3$kg$^{-1}$s$^{-2}$)\n",
    "* m$_1$ is the mass of the planet (in kg)\n",
    "* m$_2$ is the mass of the Sun ( = 2x10$^{30}$ kg)\n",
    "* a is the distance between the planet and the Sun (in m)\n",
    "\n",
    "How many Earth birthdays will you celebrate during your 10 Mars years mission? Write a python code that will calculate the the period on Earth, `P_earth`, the period on Mars, `P_mars`, and how many Earth years are equivalent to 10 years on Mars, `birthdays`.\n",
    "\n",
    "You know that:\n",
    "* The average distance between the Earth and the Sun is $a$ = 1.5x10$^{11}$m;\n",
    "* The average distance between Mars and the Sun is 0.5 larger than the Eart-Sun distance;\n",
    "* The mass of the Earth is m$_1$ = 6x10$^{24}$;\n",
    "* Mars's mass is about 10% of the Earth's mass.\n",
    "\n",
    "Hint: You do not need to do any unit conversion. "
   ]
  },
  {
   "cell_type": "code",
   "execution_count": null,
   "metadata": {
    "collapsed": true
   },
   "outputs": [],
   "source": [
    "# Uncomment and complete this code - keep the names the same for testing purposes. \n",
    "\n",
    "#from math import pi, sqrt\n",
    "\n",
    "#def period(a, G=6.67*10**-11, m1=6*10**24 , m2=2*10**30):\n",
    "#    ...\n",
    "#    \n",
    "#    return P_mars, P_earth, birthdays\n",
    "\n",
    "#print(period(1.5*10**11))"
   ]
  },
  {
   "cell_type": "code",
   "execution_count": null,
   "metadata": {
    "collapsed": true
   },
   "outputs": [],
   "source": [
    "ok.grade('question-1_9')"
   ]
  },
  {
   "cell_type": "code",
   "execution_count": null,
   "metadata": {
    "collapsed": true
   },
   "outputs": [],
   "source": [
    " ok.score()"
   ]
  }
 ],
 "metadata": {
  "celltoolbar": "Slideshow",
  "kernelspec": {
   "display_name": "Python 3",
   "language": "python",
   "name": "python3"
  },
  "language_info": {
   "codemirror_mode": {
    "name": "ipython",
    "version": 3
   },
   "file_extension": ".py",
   "mimetype": "text/x-python",
   "name": "python",
   "nbconvert_exporter": "python",
   "pygments_lexer": "ipython3",
   "version": "3.6.2"
  }
 },
 "nbformat": 4,
 "nbformat_minor": 1
}
